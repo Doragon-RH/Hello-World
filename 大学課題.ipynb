{
  "nbformat": 4,
  "nbformat_minor": 0,
  "metadata": {
    "colab": {
      "provenance": [],
      "authorship_tag": "ABX9TyP1KpdKnW3hXfqGCYR5nYwl",
      "include_colab_link": true
    },
    "kernelspec": {
      "name": "python3",
      "display_name": "Python 3"
    },
    "language_info": {
      "name": "python"
    }
  },
  "cells": [
    {
      "cell_type": "markdown",
      "metadata": {
        "id": "view-in-github",
        "colab_type": "text"
      },
      "source": [
        "<a href=\"https://colab.research.google.com/github/Doragon-RH/Python/blob/main/%E5%A4%A7%E5%AD%A6%E8%AA%B2%E9%A1%8C.ipynb\" target=\"_parent\"><img src=\"https://colab.research.google.com/assets/colab-badge.svg\" alt=\"Open In Colab\"/></a>"
      ]
    },
    {
      "cell_type": "code",
      "execution_count": null,
      "metadata": {
        "colab": {
          "base_uri": "https://localhost:8080/"
        },
        "id": "V0LPLyrjRuy3",
        "outputId": "69e61af9-2a1b-428d-f2f7-c3f7e247fe27"
      },
      "outputs": [
        {
          "output_type": "stream",
          "name": "stdout",
          "text": [
            "Collecting mypulp\n",
            "  Downloading mypulp-0.0.11-py3-none-any.whl (6.3 kB)\n",
            "Collecting pulp<3.0,>=2.3 (from mypulp)\n",
            "  Downloading PuLP-2.8.0-py3-none-any.whl (17.7 MB)\n",
            "\u001b[2K     \u001b[90m━━━━━━━━━━━━━━━━━━━━━━━━━━━━━━━━━━━━━━━━\u001b[0m \u001b[32m17.7/17.7 MB\u001b[0m \u001b[31m37.6 MB/s\u001b[0m eta \u001b[36m0:00:00\u001b[0m\n",
            "\u001b[?25hInstalling collected packages: pulp, mypulp\n",
            "Successfully installed mypulp-0.0.11 pulp-2.8.0\n"
          ]
        }
      ],
      "source": [
        "!pip install mypulp"
      ]
    },
    {
      "cell_type": "code",
      "source": [
        "!pip install gurobipy  # install gurobipy, if not already installed\n",
        "import gurobipy as gp  # import the installed package"
      ],
      "metadata": {
        "colab": {
          "base_uri": "https://localhost:8080/"
        },
        "id": "gf-oO0xCRx0f",
        "outputId": "8c9a87b2-4581-4697-cecb-3a9441d7b60b"
      },
      "execution_count": null,
      "outputs": [
        {
          "output_type": "stream",
          "name": "stdout",
          "text": [
            "Collecting gurobipy\n",
            "  Downloading gurobipy-11.0.1-cp310-cp310-manylinux2014_x86_64.manylinux_2_17_x86_64.whl (13.4 MB)\n",
            "\u001b[2K     \u001b[90m━━━━━━━━━━━━━━━━━━━━━━━━━━━━━━━━━━━━━━━━\u001b[0m \u001b[32m13.4/13.4 MB\u001b[0m \u001b[31m43.2 MB/s\u001b[0m eta \u001b[36m0:00:00\u001b[0m\n",
            "\u001b[?25hInstalling collected packages: gurobipy\n",
            "Successfully installed gurobipy-11.0.1\n"
          ]
        }
      ]
    },
    {
      "cell_type": "code",
      "source": [
        "from gurobipy import GRB, Model, quicksum, multidict, tuplelist"
      ],
      "metadata": {
        "id": "za1wp-MnSGTt"
      },
      "execution_count": null,
      "outputs": []
    },
    {
      "cell_type": "code",
      "source": [
        "model = Model() #モデルインスタンスの生成\n",
        "\n",
        "x11 = model.addVar(name=\"x11\",vtype=\"I\")\n",
        "x12 = model.addVar(name=\"x12\",vtype=\"I\")\n",
        "x21 = model.addVar(name=\"x21\",vtype=\"I\")\n",
        "x22 = model.addVar(name=\"x22\",vtype=\"I\")\n",
        "y11 = model.addVar(name=\"y11\",vtype=\"I\")\n",
        "y12 = model.addVar(name=\"y12\",vtype=\"I\")\n",
        "y13 = model.addVar(name=\"y13\",vtype=\"I\")\n",
        "y14 = model.addVar(name=\"y14\",vtype=\"I\")\n",
        "y21 = model.addVar(name=\"y21\",vtype=\"I\")\n",
        "y22 = model.addVar(name=\"y22\",vtype=\"I\")\n",
        "y23 = model.addVar(name=\"y23\",vtype=\"I\")\n",
        "y24 = model.addVar(name=\"y24\",vtype=\"I\")\n",
        "z1 = model.addVar(name=\"z1\",vtype=\"I\")\n",
        "z2 = model.addVar(name=\"z2\",vtype=\"I\")\n",
        "\n",
        "model.update()\n",
        "\n",
        "model.addConstr(z1 == x11 +x21)#z1に運ばれる台数\n",
        "model.addConstr(z2 == x12 +x22) #z2に運ばれる台数\n",
        "model.addConstr(z1+z2 >=12 ) #倉庫に運ばれる台数\n",
        "model.addConstr(z1*100<=(y11 +y12+ y13+ y14)*40)#倉庫から店舗への配達台数\n",
        "model.addConstr(z2*100<=(y21 +y22+ y23+ y24)*40)\n",
        "model.addConstr(z1/3-1>=0)#敷地の制約\n",
        "model.addConstr(z2/3-1>=0)\n",
        "model.addConstr((y11+y21)*40>=500)#各店舗への配達台数の制約\n",
        "model.addConstr((y12+y22)*40>=300)\n",
        "model.addConstr((y13+y23)*40>=200)\n",
        "model.addConstr((y14+y24)*40>=200)\n",
        "\n",
        "model.setObjective(\n",
        "    (x11*30+x12*40+x21*40+x22*30 + y11*8+y12*15+y13*15+y14*10+y21*10+y22*10+y23*20+y24*20 )*200+ (z1/3-1)*50000+(z2/3-1)*25000\n",
        "    , GRB.MINIMIZE)\n",
        "\n",
        "model.optimize() #最適化\n",
        "print(\"年間総費用(万円/年)=\", model.ObjVal)\n",
        "print(f\"x11={x11}\\nx12={x12}\\nx21={x21}\\nx22={x22}\\ny11={y11}\\ny12={y12}\\ny13={y13}\\ny14={y14}\\ny21={y21}\\ny22={y22}\\ny23={y23}\\ny24={y24}\\nz1={z1}\\nz2={z2}\")\n",
        "if model.Status == GRB.Status.OPTIMAL:\n",
        "    for v in model.getVars():\n",
        "        print(v.VarName, v.X)"
      ],
      "metadata": {
        "colab": {
          "base_uri": "https://localhost:8080/"
        },
        "id": "mIJjvdCW5jVx",
        "outputId": "f8878eba-8166-402b-a9b3-2d58896e1f78"
      },
      "execution_count": null,
      "outputs": [
        {
          "output_type": "stream",
          "name": "stdout",
          "text": [
            "Gurobi Optimizer version 11.0.1 build v11.0.1rc0 (linux64 - \"Ubuntu 22.04.3 LTS\")\n",
            "\n",
            "CPU model: Intel(R) Xeon(R) CPU @ 2.20GHz, instruction set [SSE2|AVX|AVX2]\n",
            "Thread count: 1 physical cores, 2 logical processors, using up to 2 threads\n",
            "\n",
            "Optimize a model with 11 rows, 14 columns and 28 nonzeros\n",
            "Model fingerprint: 0xb4245ebb\n",
            "Variable types: 0 continuous, 14 integer (0 binary)\n",
            "Coefficient statistics:\n",
            "  Matrix range     [3e-01, 1e+02]\n",
            "  Objective range  [2e+03, 2e+04]\n",
            "  Bounds range     [0e+00, 0e+00]\n",
            "  RHS range        [1e+00, 5e+02]\n",
            "Found heuristic solution: objective 283000.00000\n",
            "Presolve removed 5 rows and 5 columns\n",
            "Presolve time: 0.00s\n",
            "Presolved: 6 rows, 9 columns, 18 nonzeros\n",
            "Found heuristic solution: objective 196600.00000\n",
            "Variable types: 0 continuous, 9 integer (0 binary)\n",
            "Found heuristic solution: objective 192200.00000\n",
            "\n",
            "Root relaxation: objective 1.905000e+05, 6 iterations, 0.00 seconds (0.00 work units)\n",
            "\n",
            "    Nodes    |    Current Node    |     Objective Bounds      |     Work\n",
            " Expl Unexpl |  Obj  Depth IntInf | Incumbent    BestBd   Gap | It/Node Time\n",
            "\n",
            "     0     0 190500.000    0    2 192200.000 190500.000  0.88%     -    0s\n",
            "H    0     0                    192000.00000 190500.000  0.78%     -    0s\n",
            "H    0     0                    191000.00000 190500.000  0.26%     -    0s\n",
            "     0     0 190500.000    0    2 191000.000 190500.000  0.26%     -    0s\n",
            "\n",
            "Explored 1 nodes (6 simplex iterations) in 0.03 seconds (0.00 work units)\n",
            "Thread count was 2 (of 2 available processors)\n",
            "\n",
            "Solution count 5: 191000 192000 192200 ... 283000\n",
            "\n",
            "Optimal solution found (tolerance 1.00e-04)\n",
            "Best objective 1.910000000000e+05, best bound 1.910000000000e+05, gap 0.0000%\n",
            "年間総費用(万円/年)= 191000.0\n",
            "x11=<gurobi.Var x11 (value 3.0)>\n",
            "x12=<gurobi.Var x12 (value 0.0)>\n",
            "x21=<gurobi.Var x21 (value -0.0)>\n",
            "x22=<gurobi.Var x22 (value 9.0)>\n",
            "y11=<gurobi.Var y11 (value 0.0)>\n",
            "y12=<gurobi.Var y12 (value 0.0)>\n",
            "y13=<gurobi.Var y13 (value 3.0)>\n",
            "y14=<gurobi.Var y14 (value 5.0)>\n",
            "y21=<gurobi.Var y21 (value 13.0)>\n",
            "y22=<gurobi.Var y22 (value 8.0)>\n",
            "y23=<gurobi.Var y23 (value 2.0)>\n",
            "y24=<gurobi.Var y24 (value 0.0)>\n",
            "z1=<gurobi.Var z1 (value 3.0)>\n",
            "z2=<gurobi.Var z2 (value 9.0)>\n",
            "x11 3.0\n",
            "x12 0.0\n",
            "x21 -0.0\n",
            "x22 9.0\n",
            "y11 0.0\n",
            "y12 0.0\n",
            "y13 3.0\n",
            "y14 5.0\n",
            "y21 13.0\n",
            "y22 8.0\n",
            "y23 2.0\n",
            "y24 0.0\n",
            "z1 3.0\n",
            "z2 9.0\n"
          ]
        }
      ]
    },
    {
      "cell_type": "code",
      "source": [
        "model = Model() #モデルインスタンスの生成\n",
        "\n",
        "x11 = model.addVar(name=\"x11\")\n",
        "x12 = model.addVar(name=\"x12\")\n",
        "x21 = model.addVar(name=\"x21\")\n",
        "x22 = model.addVar(name=\"x22\")\n",
        "y11 = model.addVar(name=\"y11\")\n",
        "y12 = model.addVar(name=\"y12\")\n",
        "y13 = model.addVar(name=\"y13\")\n",
        "y14 = model.addVar(name=\"y14\")\n",
        "y21 = model.addVar(name=\"y21\")\n",
        "y22 = model.addVar(name=\"y22\")\n",
        "y23 = model.addVar(name=\"y23\")\n",
        "y24 = model.addVar(name=\"y24\")\n",
        "z1 = model.addVar(name=\"z1\")\n",
        "z2 = model.addVar(name=\"z2\")\n",
        "\n",
        "model.update()\n",
        "\n",
        "model.addConstr(z1 == x11 +x21)#z1に運ばれる台数\n",
        "model.addConstr(z2 == x12 +x22) #z2に運ばれる台数\n",
        "model.addConstr(z1+z2 >=12 ) #倉庫に運ばれる台数\n",
        "model.addConstr(z1*100<=(y11 +y12+ y13+ y14)*40)#倉庫から店舗への配達台数\n",
        "model.addConstr(z2*100<=(y21 +y22+ y23+ y24)*40)\n",
        "model.addConstr(z1/3-1>=0)#敷地の制約\n",
        "model.addConstr(z2/3-1>=0)\n",
        "model.addConstr((y11+y21)*40>=500)#各店舗への配達台数の制約\n",
        "model.addConstr((y12+y22)*40>=300)\n",
        "model.addConstr((y13+y23)*40>=200)\n",
        "model.addConstr((y14+y24)*40>=200)\n",
        "\n",
        "model.setObjective(\n",
        "    (x11*30+x12*40+x21*40+x22*30 + y11*8+y12*15+y13*15+y14*10+y21*10+y22*10+y23*20+y24*20 )*200+ (z1/3-1)*50000+(z2/3-1)*25000\n",
        "    , GRB.MINIMIZE)\n",
        "\n",
        "model.optimize() #最適化\n",
        "print(\"年間総費用(万円/年)=\", model.ObjVal)\n",
        "print(f\"x11={x11}\\nx12={x12}\\nx21={x21}\\nx22={x22}\\ny11={y11}\\ny12={y12}\\ny13={y13}\\ny14={y14}\\ny21={y21}\\ny22={y22}\\ny23={y23}\\ny24={y24}\\nz1={z1}\\nz2={z2}\")\n",
        "if model.Status == GRB.Status.OPTIMAL:\n",
        "    for v in model.getVars():\n",
        "        print(v.VarName, v.X)"
      ],
      "metadata": {
        "colab": {
          "base_uri": "https://localhost:8080/"
        },
        "id": "6JZ5SXrK6a9Y",
        "outputId": "2117b57c-7e89-468d-cf6e-c3133bc758c6"
      },
      "execution_count": null,
      "outputs": [
        {
          "output_type": "stream",
          "name": "stdout",
          "text": [
            "Gurobi Optimizer version 11.0.1 build v11.0.1rc0 (linux64 - \"Ubuntu 22.04.3 LTS\")\n",
            "\n",
            "CPU model: Intel(R) Xeon(R) CPU @ 2.20GHz, instruction set [SSE2|AVX|AVX2]\n",
            "Thread count: 1 physical cores, 2 logical processors, using up to 2 threads\n",
            "\n",
            "Optimize a model with 11 rows, 14 columns and 28 nonzeros\n",
            "Model fingerprint: 0xe6de6d08\n",
            "Coefficient statistics:\n",
            "  Matrix range     [3e-01, 1e+02]\n",
            "  Objective range  [2e+03, 2e+04]\n",
            "  Bounds range     [0e+00, 0e+00]\n",
            "  RHS range        [1e+00, 5e+02]\n",
            "Presolve removed 5 rows and 6 columns\n",
            "Presolve time: 0.01s\n",
            "Presolved: 6 rows, 8 columns, 16 nonzeros\n",
            "\n",
            "Iteration    Objective       Primal Inf.    Dual Inf.      Time\n",
            "       0    1.2200000e+05   3.000000e+02   0.000000e+00      0s\n",
            "       6    1.8950000e+05   0.000000e+00   0.000000e+00      0s\n",
            "\n",
            "Solved in 6 iterations and 0.02 seconds (0.00 work units)\n",
            "Optimal objective  1.895000000e+05\n",
            "年間総費用(万円/年)= 189500.0\n",
            "x11=<gurobi.Var x11 (value 3.0)>\n",
            "x12=<gurobi.Var x12 (value 0.0)>\n",
            "x21=<gurobi.Var x21 (value 0.0)>\n",
            "x22=<gurobi.Var x22 (value 9.0)>\n",
            "y11=<gurobi.Var y11 (value 0.0)>\n",
            "y12=<gurobi.Var y12 (value 0.0)>\n",
            "y13=<gurobi.Var y13 (value 2.5)>\n",
            "y14=<gurobi.Var y14 (value 5.0)>\n",
            "y21=<gurobi.Var y21 (value 12.5)>\n",
            "y22=<gurobi.Var y22 (value 7.5)>\n",
            "y23=<gurobi.Var y23 (value 2.5)>\n",
            "y24=<gurobi.Var y24 (value 0.0)>\n",
            "z1=<gurobi.Var z1 (value 3.0)>\n",
            "z2=<gurobi.Var z2 (value 9.0)>\n",
            "x11 3.0\n",
            "x12 0.0\n",
            "x21 0.0\n",
            "x22 9.0\n",
            "y11 0.0\n",
            "y12 0.0\n",
            "y13 2.5\n",
            "y14 5.0\n",
            "y21 12.5\n",
            "y22 7.5\n",
            "y23 2.5\n",
            "y24 0.0\n",
            "z1 3.0\n",
            "z2 9.0\n"
          ]
        }
      ]
    },
    {
      "cell_type": "code",
      "source": [
        "#問題\n",
        "Customer, d = multidict({1: 80, 2: 270, 3: 250, 4: 160}) #demand\n",
        "\n",
        "C = {\n",
        "    (1, 1): 1,  # 工場から倉庫までの輸送コスト（これに製品の重量を乗じたものを輸送費用とする）\n",
        "    (1, 2): 6,\n",
        "    (2, 1): 3,\n",
        "    (2, 2): 1,\n",
        "}\n",
        "c = {\n",
        "    (1,1): 4, #倉庫から顧客までの輸送コスト\n",
        "    (1,2): 6,\n",
        "    (1,3): 5,\n",
        "    (1,4): 4,\n",
        "    (2,1): 6,\n",
        "    (2,2): 3,\n",
        "    (2,3): 8,\n",
        "}\n",
        "\n",
        "Warehouse = list(range(1,3))\n",
        "model = Model(\"transshipment\")\n",
        "\n",
        "x,X = {}, {}\n",
        "for i in Customer:\n",
        "    for j in Warehouse:\n",
        "        x[i, j] = model.addVar(vtype=\"I\", name=f\"x({i},{j})\".format(i,j))\n",
        "z1 = model.addVar(name=\"z1\",vtype=\"I\")\n",
        "z2 = model.addVar(name=\"z2\",vtype=\"I\")\n",
        "for i in Customer:\n",
        "    model.addConstr(\n",
        "        quicksum(x[i, j] for j in Warehouse ) == d[i],\n",
        "        name = \"Demand({0})\".format(i))\n",
        "\n",
        "model.setObjective(quicksum(C[j, k] * X[j, k] for (j, k) in X) + quicksum(c[i,j]*x[i,j] for (i,j) in x), GRB.MINIMIZE)\n",
        "\n",
        "model.optimize()\n",
        "print(\"Optimal value:\", model.ObjVal)\n",
        "\n",
        "EPS = 1.0e-6\n",
        "for (i, j) in x:\n",
        "    if x[i, j].X > EPS:\n",
        "        print(\"{0:5} from warehouse {1:>2} to customer {2:>2}\".format(x[i,j].X,j,i))\n",
        "for (j,k) in X:\n",
        "  if X[j,k].X > EPS:\n",
        "    print(\"{0:>5} from factory {1:>2} to warehouse {2:>2}\".format(X[j,k].X,k,j))\n",
        "    print(\"{0:>15}: {1:>8} , {2:>4}\".format(\"Const, Name\", \"Slack\", \"Dual\"))\n",
        "# for c in model.getConstrs():\n",
        "#   print(\"{0:>15}: {1:>8} , {2:>4}\".format(c.ConstrName, c.Slack,c.Pi))"
      ],
      "metadata": {
        "colab": {
          "base_uri": "https://localhost:8080/",
          "height": 383
        },
        "id": "a6-gwdbxRyGJ",
        "outputId": "c85a31d4-50d5-4ea9-cfe9-752b9b250088"
      },
      "execution_count": null,
      "outputs": [
        {
          "output_type": "error",
          "ename": "KeyError",
          "evalue": "(3, 1)",
          "traceback": [
            "\u001b[0;31m---------------------------------------------------------------------------\u001b[0m",
            "\u001b[0;31mKeyError\u001b[0m                                  Traceback (most recent call last)",
            "\u001b[0;32m<ipython-input-17-7fbaa2ad2e61>\u001b[0m in \u001b[0;36m<cell line: 34>\u001b[0;34m()\u001b[0m\n\u001b[1;32m     32\u001b[0m         name = \"Demand({0})\".format(i))\n\u001b[1;32m     33\u001b[0m \u001b[0;34m\u001b[0m\u001b[0m\n\u001b[0;32m---> 34\u001b[0;31m \u001b[0mmodel\u001b[0m\u001b[0;34m.\u001b[0m\u001b[0msetObjective\u001b[0m\u001b[0;34m(\u001b[0m\u001b[0mquicksum\u001b[0m\u001b[0;34m(\u001b[0m\u001b[0mC\u001b[0m\u001b[0;34m[\u001b[0m\u001b[0mj\u001b[0m\u001b[0;34m,\u001b[0m \u001b[0mk\u001b[0m\u001b[0;34m]\u001b[0m \u001b[0;34m*\u001b[0m \u001b[0mX\u001b[0m\u001b[0;34m[\u001b[0m\u001b[0mj\u001b[0m\u001b[0;34m,\u001b[0m \u001b[0mk\u001b[0m\u001b[0;34m]\u001b[0m \u001b[0;32mfor\u001b[0m \u001b[0;34m(\u001b[0m\u001b[0mj\u001b[0m\u001b[0;34m,\u001b[0m \u001b[0mk\u001b[0m\u001b[0;34m)\u001b[0m \u001b[0;32min\u001b[0m \u001b[0mX\u001b[0m\u001b[0;34m)\u001b[0m \u001b[0;34m+\u001b[0m \u001b[0mquicksum\u001b[0m\u001b[0;34m(\u001b[0m\u001b[0mc\u001b[0m\u001b[0;34m[\u001b[0m\u001b[0mi\u001b[0m\u001b[0;34m,\u001b[0m\u001b[0mj\u001b[0m\u001b[0;34m]\u001b[0m\u001b[0;34m*\u001b[0m\u001b[0mx\u001b[0m\u001b[0;34m[\u001b[0m\u001b[0mi\u001b[0m\u001b[0;34m,\u001b[0m\u001b[0mj\u001b[0m\u001b[0;34m]\u001b[0m \u001b[0;32mfor\u001b[0m \u001b[0;34m(\u001b[0m\u001b[0mi\u001b[0m\u001b[0;34m,\u001b[0m\u001b[0mj\u001b[0m\u001b[0;34m)\u001b[0m \u001b[0;32min\u001b[0m \u001b[0mx\u001b[0m\u001b[0;34m)\u001b[0m\u001b[0;34m,\u001b[0m \u001b[0mGRB\u001b[0m\u001b[0;34m.\u001b[0m\u001b[0mMINIMIZE\u001b[0m\u001b[0;34m)\u001b[0m\u001b[0;34m\u001b[0m\u001b[0;34m\u001b[0m\u001b[0m\n\u001b[0m\u001b[1;32m     35\u001b[0m \u001b[0;34m\u001b[0m\u001b[0m\n\u001b[1;32m     36\u001b[0m \u001b[0mmodel\u001b[0m\u001b[0;34m.\u001b[0m\u001b[0moptimize\u001b[0m\u001b[0;34m(\u001b[0m\u001b[0;34m)\u001b[0m\u001b[0;34m\u001b[0m\u001b[0;34m\u001b[0m\u001b[0m\n",
            "\u001b[0;32msrc/gurobipy/gurobi.pxi\u001b[0m in \u001b[0;36mgurobipy.quicksum\u001b[0;34m()\u001b[0m\n",
            "\u001b[0;32m<ipython-input-17-7fbaa2ad2e61>\u001b[0m in \u001b[0;36m<genexpr>\u001b[0;34m(.0)\u001b[0m\n\u001b[1;32m     32\u001b[0m         name = \"Demand({0})\".format(i))\n\u001b[1;32m     33\u001b[0m \u001b[0;34m\u001b[0m\u001b[0m\n\u001b[0;32m---> 34\u001b[0;31m \u001b[0mmodel\u001b[0m\u001b[0;34m.\u001b[0m\u001b[0msetObjective\u001b[0m\u001b[0;34m(\u001b[0m\u001b[0mquicksum\u001b[0m\u001b[0;34m(\u001b[0m\u001b[0mC\u001b[0m\u001b[0;34m[\u001b[0m\u001b[0mj\u001b[0m\u001b[0;34m,\u001b[0m \u001b[0mk\u001b[0m\u001b[0;34m]\u001b[0m \u001b[0;34m*\u001b[0m \u001b[0mX\u001b[0m\u001b[0;34m[\u001b[0m\u001b[0mj\u001b[0m\u001b[0;34m,\u001b[0m \u001b[0mk\u001b[0m\u001b[0;34m]\u001b[0m \u001b[0;32mfor\u001b[0m \u001b[0;34m(\u001b[0m\u001b[0mj\u001b[0m\u001b[0;34m,\u001b[0m \u001b[0mk\u001b[0m\u001b[0;34m)\u001b[0m \u001b[0;32min\u001b[0m \u001b[0mX\u001b[0m\u001b[0;34m)\u001b[0m \u001b[0;34m+\u001b[0m \u001b[0mquicksum\u001b[0m\u001b[0;34m(\u001b[0m\u001b[0mc\u001b[0m\u001b[0;34m[\u001b[0m\u001b[0mi\u001b[0m\u001b[0;34m,\u001b[0m\u001b[0mj\u001b[0m\u001b[0;34m]\u001b[0m\u001b[0;34m*\u001b[0m\u001b[0mx\u001b[0m\u001b[0;34m[\u001b[0m\u001b[0mi\u001b[0m\u001b[0;34m,\u001b[0m\u001b[0mj\u001b[0m\u001b[0;34m]\u001b[0m \u001b[0;32mfor\u001b[0m \u001b[0;34m(\u001b[0m\u001b[0mi\u001b[0m\u001b[0;34m,\u001b[0m\u001b[0mj\u001b[0m\u001b[0;34m)\u001b[0m \u001b[0;32min\u001b[0m \u001b[0mx\u001b[0m\u001b[0;34m)\u001b[0m\u001b[0;34m,\u001b[0m \u001b[0mGRB\u001b[0m\u001b[0;34m.\u001b[0m\u001b[0mMINIMIZE\u001b[0m\u001b[0;34m)\u001b[0m\u001b[0;34m\u001b[0m\u001b[0;34m\u001b[0m\u001b[0m\n\u001b[0m\u001b[1;32m     35\u001b[0m \u001b[0;34m\u001b[0m\u001b[0m\n\u001b[1;32m     36\u001b[0m \u001b[0mmodel\u001b[0m\u001b[0;34m.\u001b[0m\u001b[0moptimize\u001b[0m\u001b[0;34m(\u001b[0m\u001b[0;34m)\u001b[0m\u001b[0;34m\u001b[0m\u001b[0;34m\u001b[0m\u001b[0m\n",
            "\u001b[0;31mKeyError\u001b[0m: (3, 1)"
          ]
        }
      ]
    },
    {
      "cell_type": "code",
      "source": [
        "# from gurobipy import GRB, Model, quicksum, multidict, tuplelist\n",
        "from mypulp import GRB, Model, quicksum, multidict, tuplelist #mypulpを使う場合はここを生かす\n",
        "\n",
        "model = Model() #モデルインスタンスの生成\n",
        "\n",
        "x1 = model.addVar(name=\"x1\")          #トンコケ丼の変数（既定値は非負の実数）\n",
        "x2 = model.addVar(name=\"x2\")          #コケトン丼の変数\n",
        "x3 = model.addVar(ub=30.0, name=\"x3\") #ミックス丼の変数（牛肉の上限をub引数で指定）\n",
        "\n",
        "model.update()  # Gurobiの怠惰な更新(lazy update)という仕様（忘れずに！）\n",
        "\n",
        "model.addConstr(2 * x1 + x2 + x3 <= 60) #豚肉の制約を追加\n",
        "model.addConstr(x1 + 2 * x2 + x3 <= 60) #鶏肉の制約\n",
        "model.setObjective(15 * x1 + 18 * x2 + 30 * x3, GRB.MAXIMIZE) #目的関数（利益の最大化）\n",
        "\n",
        "# SCIPを使用したい場合\n",
        "# import pulp\n",
        "# solver = pulp.SCIP()\n",
        "# model.optimize(solver)\n",
        "\n",
        "model.optimize() #最適化\n",
        "\n",
        "if model.Status == GRB.Status.OPTIMAL: #Status属性で最適解が得られたことを確認\n",
        "    print(\"Opt. Value=\", model.ObjVal) #最適値はObjVal属性\n",
        "    for v in model.getVars():          #getVars()メソッドで変数を得る\n",
        "        print(v.VarName, v.X)          #変数名は VarName　属性， 最適解は　X　属性"
      ],
      "metadata": {
        "id": "u66XokQmR-Ku",
        "colab": {
          "base_uri": "https://localhost:8080/"
        },
        "outputId": "e16a76a2-9dc5-4907-c698-3c6258a45f80"
      },
      "execution_count": null,
      "outputs": [
        {
          "output_type": "stream",
          "name": "stdout",
          "text": [
            "Opt. Value= 1230.0\n",
            "x1 10.0\n",
            "x2 10.0\n",
            "x3 30.0\n"
          ]
        }
      ]
    },
    {
      "cell_type": "code",
      "source": [
        "\"\"\"\n",
        "単回帰モデルのパラメータ（傾きと切片）を計算する関数。\n",
        "\n",
        "入力:\n",
        "x (numpy.ndarray): 独立変数の値を含む配列。\n",
        "y (numpy.ndarray): 従属変数の値を含む配列。\n",
        "\n",
        "出力:\n",
        "切片（beta_0）と傾き（beta_1）の値の組(Pythonではタプルと呼ばれる)\n",
        "\"\"\"\n",
        "def simple_regress(x, y):\n",
        "    x_mean = np.mean(x)\n",
        "    y_mean = np.mean(y)\n",
        "    beta_1 = np.dot(x - x_mean, y - y_mean) / np.sum((x - x_mean) ** 2)\n",
        "    beta_0 = y_mean - beta_1 * x_mean\n",
        "\n",
        "    return (beta_0, beta_1)"
      ],
      "metadata": {
        "id": "E-x6XQ4NANaC"
      },
      "execution_count": null,
      "outputs": []
    },
    {
      "cell_type": "code",
      "source": [
        "def calculate_r_squared(y_true, y_pred):\n",
        "    # 実際の値の平均\n",
        "    y_mean = np.mean(y_true)\n",
        "    # 総平方和（Total Sum of Squares）\n",
        "    ss_tot = np.sum((y_true - y_mean) ** 2)\n",
        "    # 回帰平方和（Regression Sum of Squares）\n",
        "    ss_res = np.sum((y_true - y_pred) ** 2)\n",
        "    # 決定係数の計算\n",
        "    r_squared = 1 - (ss_res / ss_tot)\n",
        "    return r_squared"
      ],
      "metadata": {
        "id": "QgPNojF8ASHG"
      },
      "execution_count": null,
      "outputs": []
    },
    {
      "cell_type": "code",
      "source": [
        "x=np.array([1, 2, 3, 4, 5])\n",
        "y=np.array([2, 2.55, 2.95, 3.55, 4])\n",
        "# 平均を計算\n",
        "x_mean = np.mean(x)\n",
        "y_mean = np.mean(y)\n",
        "\n",
        "# 回帰直線の傾き切片を計算\n",
        "beta_1 = np.dot(x - x_mean, y - y_mean) / np.sum((x - x_mean) ** 2)\n",
        "beta_0 = y_mean - beta_1 * x_mean\n",
        "\n",
        "print(\"推定された傾き: \", beta_1, \", 推定された切片: \", beta_0)"
      ],
      "metadata": {
        "id": "_SdmCwa2_7jk"
      },
      "execution_count": null,
      "outputs": []
    },
    {
      "cell_type": "code",
      "source": [
        "(beta_0, beta_1) = simple_regress(x, y)\n",
        "y_pred = beta_0 + beta_1 * x\n",
        "print(\"決定係数: \", calculate_r_squared(y, y_pred))\n",
        "print(x,y)\n",
        "\n",
        "plt.scatter(x, y, c=\"black\", label=\"Data\")\n",
        "plt.axhline(y=0, c=\"black\", linewidth=0.5)\n",
        "plt.axvline(x=0, c=\"black\", linewidth=0.5)\n",
        "plt.plot(x, y_pred, c=\"blue\", label=\"Fitted Line\")\n",
        "plt.legend(loc=\"upper left\")\n",
        "plt.show()"
      ],
      "metadata": {
        "id": "1kRt4iEfADd8"
      },
      "execution_count": null,
      "outputs": []
    },
    {
      "cell_type": "markdown",
      "source": [
        "回帰"
      ],
      "metadata": {
        "id": "kkthg4EDAEKy"
      }
    },
    {
      "cell_type": "code",
      "source": [
        "# 使うライブラリの準備\n",
        "import numpy as np\n",
        "import matplotlib.pyplot as plt\n",
        "%matplotlib inline"
      ],
      "metadata": {
        "id": "6AUGF-JL__QG"
      },
      "execution_count": 1,
      "outputs": []
    },
    {
      "cell_type": "markdown",
      "source": [
        "リッジ回帰"
      ],
      "metadata": {
        "id": "lPs595TqAHVL"
      }
    },
    {
      "cell_type": "code",
      "source": [
        "def ridge_regression(X, y, lam):\n",
        "    \"\"\"\n",
        "    リッジ回帰を行い、推定された係数を返す関数\n",
        "\n",
        "    X : np.array\n",
        "        説明変数の行列\n",
        "    y : np.array\n",
        "        目的変数のベクトル\n",
        "    lam : float\n",
        "        リッジ回帰の正則化パラメータ\n",
        "    \"\"\"\n",
        "    N = X.shape[0]  # データ点の数\n",
        "    p = X.shape[1]  # 説明変数の数\n",
        "\n",
        "    # データの中心化\n",
        "    X_bar = np.mean(X, axis=0)    # 行方向、つまり列ごと(説明変数ごと)の平均を計算\n",
        "    y_bar = np.mean(y)            # 目的変数の平均を計算\n",
        "    X_tilde = X - X_bar             # それぞれの説明変数ごとに平均を引き算\n",
        "    y_tilde = y - y_bar             # 各要素ごとに平均を引き算\n",
        "\n",
        "    # リッジ回帰の係数を推定\n",
        "    I = np.eye(p)                   # p×pの単位行列\n",
        "    beta_minus0 = np.linalg.inv(X_tilde.T @ X_tilde + N*lam*I) @ X_tilde.T @ y_tilde\n",
        "\n",
        "    # 切片の計算\n",
        "    beta_0 = y_bar - np.dot(X_bar, beta_minus0)\n",
        "\n",
        "    # beta_minus0の先頭(0番目)にbeta_0を挿入\n",
        "    beta = np.insert(beta_minus0, 0, beta_0)\n",
        "\n",
        "    return beta"
      ],
      "metadata": {
        "id": "6rQUk9ADAJbA"
      },
      "execution_count": null,
      "outputs": []
    },
    {
      "cell_type": "code",
      "source": [
        "X = np.array([\n",
        "  [1, 2],\n",
        "  [2, 3],\n",
        "  [3, 4],\n",
        "  [4, 5],\n",
        "  [5, 6],\n",
        "  [6, 7],\n",
        "  [7, 8],\n",
        "  [8, 9],\n",
        "  [9, 10],\n",
        "  [10, 11]\n",
        "])\n",
        "y = np.array([\n",
        "  0.9, 1.8, 3.1, 4.2, 5.1, 6.2, 7.4, 8.6, 9.5, 10.8\n",
        "])\n",
        "\n",
        "estimated_beta = ridge_regression(X, y, 0.1)\n",
        "\n",
        "# 推定されたβの表示（切片を含む）\n",
        "print(\"推定されるβ:\", estimated_beta)"
      ],
      "metadata": {
        "id": "_ZA3OPcpALod"
      },
      "execution_count": null,
      "outputs": []
    },
    {
      "cell_type": "markdown",
      "source": [
        "ラッソ回帰"
      ],
      "metadata": {
        "id": "8ihOkm9VANS4"
      }
    },
    {
      "cell_type": "code",
      "source": [
        "def soft_threshold(lam, x):\n",
        "    \"\"\"Soft thresholding function.\"\"\"\n",
        "    return np.sign(x) * np.maximum(np.abs(x) - lam, 0)    # np.sign(x)はxの符号、np.abs(x)はxの絶対値、np.maximum(A, B)はAとBの大きい方"
      ],
      "metadata": {
        "id": "Ca5x20U7AKKP"
      },
      "execution_count": null,
      "outputs": []
    },
    {
      "cell_type": "code",
      "source": [
        "x_seq = np.arange(-10, 10, 0.1)     # 0.1刻みで-10から10までの数字を生成\n",
        "\n",
        "plt.plot(x_seq, soft_threshold(5, x_seq))\n",
        "plt.plot([-5, -5], [4, -4], c=\"black\", linestyle=\"dashed\", linewidth=0.8)\n",
        "plt.plot([5, 5], [4, -4], c=\"black\", linestyle=\"dashed\", linewidth=0.8)"
      ],
      "metadata": {
        "id": "WNX6fcJYAT99"
      },
      "execution_count": null,
      "outputs": []
    },
    {
      "cell_type": "code",
      "source": [
        "def lasso_regression(X, y, lam):\n",
        "    \"\"\"\n",
        "    中心化されたデータに対するLasso回帰を行い、推定された係数を返す関数\n",
        "\n",
        "    Parameters:\n",
        "    X : np.array\n",
        "        説明変数の行列\n",
        "    y : np.array\n",
        "        目的変数のベクトル\n",
        "    lam : float\n",
        "        Lasso回帰の正則化パラメータ\n",
        "\n",
        "    Returns:\n",
        "    beta : np.array\n",
        "        推定された係数（切片を含む）\n",
        "    \"\"\"\n",
        "    N = X.shape[0]  # データ点の数\n",
        "    p = X.shape[1]  # 説明変数の数\n",
        "\n",
        "    # データの中心化\n",
        "    X_bar = np.mean(X, axis=0)    # 行方向、つまり列ごと(説明変数ごと)の平均を計算\n",
        "    y_bar = np.mean(y)            # 目的変数の平均を計算\n",
        "    X_tilde = X - X_bar             # それぞれの説明変数ごとに平均を引き算\n",
        "    y_tilde = y - y_bar             # 各要素ごとに平均を引き算\n",
        "\n",
        "    # βの初期化\n",
        "    beta = np.zeros(p)\n",
        "    beta_prev = np.copy(beta)\n",
        "\n",
        "    for count in range(10000):   # 十分多い回数計算させる\n",
        "        for j in range(p):\n",
        "            beta[j] = 0.0         # j番目の係数を除外して残差を計算\n",
        "            r_j = y_tilde - X_tilde @ beta\n",
        "\n",
        "            # j番目の係数を更新\n",
        "            s_j = X_tilde[:, j] @ r_j / N\n",
        "            beta[j] = soft_threshold(lam, s_j) / np.mean(X_tilde[:, j]**2)\n",
        "\n",
        "        # 収束判定\n",
        "        if np.max(np.abs(beta - beta_prev)) < 0.001:\n",
        "            break                 # βの更新量が十分小さいのでfor文を脱出\n",
        "        beta_prev = np.copy(beta)\n",
        "\n",
        "    beta_0 = y_bar - np.dot(X_bar, beta)\n",
        "    return np.insert(beta, 0, beta_0)"
      ],
      "metadata": {
        "id": "ur8VOGCkAUZ4"
      },
      "execution_count": null,
      "outputs": []
    },
    {
      "cell_type": "code",
      "source": [
        "\n",
        "np.random.seed(0)  # 結果の再現性を保証\n",
        "p = 10  # 説明変数の総数\n",
        "\n",
        "# 実際に目的変数に影響を与える説明変数の係数を設定\n",
        "beta = np.array([3, -1.5, 2] + [0] * (p - 3))   # [0] * (p - 3)は0をp-3個並べたもので、[3, -1.5, 2, 0, ..., 0]というベクトルを作った\n",
        "\n",
        "# 学習データの生成\n",
        "X = np.array([\n",
        "[1, 2, 0.5, 0],\n",
        "[2, -1, 0, 0],\n",
        "[3, 4, 0.3, 0.2],\n",
        "[4, 2, 0, 0.1],\n",
        "[5, 6, 0.1, 0],\n",
        "[6, 4, 0.4, 0.3],\n",
        "[7, 8, 0, 0],\n",
        "[8, 6, 0.2, 0.1],\n",
        "[9, 10, 0.1, 0],\n",
        "[10, 8, 0.5, 0.4]\n",
        "])\n",
        "y = np.array([\n",
        "3.1, 5.2, 7.3, 9.4, 10.5, 12.6, 14.7, 16.8, 18.9, 21.0\n",
        "])\n",
        "\n",
        "estimated_beta = lasso_regression(X, y, 0.1)\n",
        "print(\"Lassoで推定されるβ:\", estimated_beta)    # [0, 3, -1.5, 2, 0, ..., 0]に近い結果が得られる"
      ],
      "metadata": {
        "id": "Legd4aUBAWrk"
      },
      "execution_count": null,
      "outputs": []
    }
  ]
}